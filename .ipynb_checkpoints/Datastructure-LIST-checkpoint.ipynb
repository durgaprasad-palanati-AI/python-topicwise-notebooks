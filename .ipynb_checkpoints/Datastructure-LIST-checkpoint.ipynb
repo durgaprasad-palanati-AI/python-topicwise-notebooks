{
 "cells": [
  {
   "cell_type": "markdown",
   "id": "53e61af7",
   "metadata": {},
   "source": [
    "# List datastructure creation"
   ]
  },
  {
   "cell_type": "code",
   "execution_count": 1,
   "id": "423c79cd",
   "metadata": {},
   "outputs": [],
   "source": [
    "l=[1,'a',1.2,'abc']"
   ]
  },
  {
   "cell_type": "code",
   "execution_count": 2,
   "id": "66e93441",
   "metadata": {},
   "outputs": [
    {
     "data": {
      "text/plain": [
       "[1, 'a', 1.2, 'abc']"
      ]
     },
     "execution_count": 2,
     "metadata": {},
     "output_type": "execute_result"
    }
   ],
   "source": [
    "l"
   ]
  },
  {
   "cell_type": "code",
   "execution_count": 3,
   "id": "d03de8c1",
   "metadata": {},
   "outputs": [],
   "source": [
    "l=[1,2,3]"
   ]
  },
  {
   "cell_type": "code",
   "execution_count": 4,
   "id": "fb3e2067",
   "metadata": {},
   "outputs": [
    {
     "data": {
      "text/plain": [
       "[1, 2, 3]"
      ]
     },
     "execution_count": 4,
     "metadata": {},
     "output_type": "execute_result"
    }
   ],
   "source": [
    "l"
   ]
  },
  {
   "cell_type": "code",
   "execution_count": 5,
   "id": "684ed5fa",
   "metadata": {},
   "outputs": [],
   "source": [
    "list1=[]#create empty list"
   ]
  },
  {
   "cell_type": "code",
   "execution_count": 6,
   "id": "cada8560",
   "metadata": {},
   "outputs": [
    {
     "data": {
      "text/plain": [
       "list"
      ]
     },
     "execution_count": 6,
     "metadata": {},
     "output_type": "execute_result"
    }
   ],
   "source": [
    "type(list1)"
   ]
  },
  {
   "cell_type": "code",
   "execution_count": 7,
   "id": "9a0ed74b",
   "metadata": {},
   "outputs": [],
   "source": [
    "list2=list()#create empty list"
   ]
  },
  {
   "cell_type": "code",
   "execution_count": 8,
   "id": "6a099eb1",
   "metadata": {},
   "outputs": [
    {
     "data": {
      "text/plain": [
       "list"
      ]
     },
     "execution_count": 8,
     "metadata": {},
     "output_type": "execute_result"
    }
   ],
   "source": [
    "type(list2)"
   ]
  },
  {
   "cell_type": "code",
   "execution_count": 9,
   "id": "48a2b9c9",
   "metadata": {},
   "outputs": [
    {
     "name": "stdout",
     "output_type": "stream",
     "text": [
      "[1, 2, 3]\n"
     ]
    }
   ],
   "source": [
    "#define list elements\n",
    "list1=[1,2,3]\n",
    "print(list1)"
   ]
  },
  {
   "cell_type": "code",
   "execution_count": 10,
   "id": "dd4c09da",
   "metadata": {},
   "outputs": [
    {
     "name": "stdout",
     "output_type": "stream",
     "text": [
      "[10, 20, 30]\n"
     ]
    }
   ],
   "source": [
    "#define list elements\n",
    "list2=list({10,20,30})#list([10,20,30]) #list((10,20,30))\n",
    "print(list2)"
   ]
  },
  {
   "cell_type": "markdown",
   "id": "bdcc3c31",
   "metadata": {},
   "source": [
    "# Accessing list elements"
   ]
  },
  {
   "cell_type": "code",
   "execution_count": 11,
   "id": "6cfa4662",
   "metadata": {},
   "outputs": [
    {
     "name": "stdout",
     "output_type": "stream",
     "text": [
      "[1, 2, 3]\n"
     ]
    }
   ],
   "source": [
    "print(list1)"
   ]
  },
  {
   "cell_type": "code",
   "execution_count": 12,
   "id": "9ce4de96",
   "metadata": {},
   "outputs": [
    {
     "name": "stdout",
     "output_type": "stream",
     "text": [
      "3\n"
     ]
    }
   ],
   "source": [
    "#length or number of elements in list\n",
    "print(len(list1))"
   ]
  },
  {
   "cell_type": "code",
   "execution_count": 13,
   "id": "4f643c93",
   "metadata": {},
   "outputs": [
    {
     "name": "stdout",
     "output_type": "stream",
     "text": [
      "element at 0 index is 1\n"
     ]
    }
   ],
   "source": [
    "#list indices start from 0\n",
    "print(\"element at %d index is %d\"%(0,list1[0]))"
   ]
  },
  {
   "cell_type": "markdown",
   "id": "f109829a",
   "metadata": {},
   "source": [
    "# Iterate list"
   ]
  },
  {
   "cell_type": "code",
   "execution_count": 14,
   "id": "f0dddd9e",
   "metadata": {},
   "outputs": [
    {
     "data": {
      "text/plain": [
       "[10, 20, 30]"
      ]
     },
     "execution_count": 14,
     "metadata": {},
     "output_type": "execute_result"
    }
   ],
   "source": [
    "list2 #list of elements"
   ]
  },
  {
   "cell_type": "code",
   "execution_count": 15,
   "id": "43e126f0",
   "metadata": {},
   "outputs": [
    {
     "name": "stdout",
     "output_type": "stream",
     "text": [
      "element at 0 index is 10\n",
      "element at 1 index is 20\n",
      "element at 2 index is 30\n"
     ]
    }
   ],
   "source": [
    "#----------- Iterate list ------method-1-------#\n",
    "#print all elements with indices\n",
    "for index in range(0,len(list2)):\n",
    "    print(\"element at %d index is %d\"%(index,list2[index]))"
   ]
  },
  {
   "cell_type": "code",
   "execution_count": 16,
   "id": "d1b28983",
   "metadata": {},
   "outputs": [
    {
     "name": "stdout",
     "output_type": "stream",
     "text": [
      "element at 0 index is 10\n",
      "element at 1 index is 20\n",
      "element at 2 index is 30\n"
     ]
    }
   ],
   "source": [
    "#----------- Iterate list ------method-2-------#\n",
    "#print all elements with indices\n",
    "for element in list2:\n",
    "    index=list2.index(element)\n",
    "    print(\"element at %d index is %d\"%(index,list2[index]))"
   ]
  },
  {
   "cell_type": "markdown",
   "id": "b042aea1",
   "metadata": {},
   "source": [
    "# manipulate list"
   ]
  },
  {
   "cell_type": "code",
   "execution_count": 17,
   "id": "9bb36646",
   "metadata": {},
   "outputs": [
    {
     "name": "stdout",
     "output_type": "stream",
     "text": [
      "[10, 20, 30]\n",
      "10\n",
      "[15, 20, 30]\n"
     ]
    }
   ],
   "source": [
    "#change list element\n",
    "print(list2)\n",
    "print(list2[0])\n",
    "list2[0]=15\n",
    "print(list2)"
   ]
  },
  {
   "cell_type": "code",
   "execution_count": 18,
   "id": "c18272a9",
   "metadata": {},
   "outputs": [
    {
     "name": "stdout",
     "output_type": "stream",
     "text": [
      "[10, 20]\n"
     ]
    }
   ],
   "source": [
    "#delete element at last index\n",
    "list2=[10,20,30]\n",
    "list2.pop()\n",
    "print(list2)"
   ]
  },
  {
   "cell_type": "code",
   "execution_count": 19,
   "id": "0e781979",
   "metadata": {},
   "outputs": [
    {
     "name": "stdout",
     "output_type": "stream",
     "text": [
      "[10, 30]\n"
     ]
    }
   ],
   "source": [
    "#delete element at specific index\n",
    "list2=[10,20,30]\n",
    "list2.pop(1)\n",
    "print(list2)"
   ]
  },
  {
   "cell_type": "code",
   "execution_count": 20,
   "id": "18c03fb8",
   "metadata": {},
   "outputs": [
    {
     "name": "stdout",
     "output_type": "stream",
     "text": [
      "[10, 30, 25]\n"
     ]
    }
   ],
   "source": [
    "#insert element at an index\n",
    "list2.insert(2,25)\n",
    "print(list2)"
   ]
  },
  {
   "cell_type": "code",
   "execution_count": 21,
   "id": "bbccf3a1",
   "metadata": {},
   "outputs": [
    {
     "name": "stdout",
     "output_type": "stream",
     "text": [
      "[10, 17, 30, 25]\n"
     ]
    }
   ],
   "source": [
    "#insert element at an index\n",
    "list2.insert(1,17)\n",
    "print(list2)"
   ]
  },
  {
   "cell_type": "code",
   "execution_count": 22,
   "id": "bee66f3b",
   "metadata": {},
   "outputs": [
    {
     "name": "stdout",
     "output_type": "stream",
     "text": [
      "[10, 30, 25]\n"
     ]
    }
   ],
   "source": [
    "#remove an element\n",
    "list2.remove(17)\n",
    "print(list2)"
   ]
  },
  {
   "cell_type": "code",
   "execution_count": 23,
   "id": "53a8b280",
   "metadata": {},
   "outputs": [
    {
     "name": "stdout",
     "output_type": "stream",
     "text": [
      "[10, 30, 20]\n",
      "[10, 30]\n"
     ]
    }
   ],
   "source": [
    "#if duplicate elements then only first matching element is removed\n",
    "list3=[10,20,30,20]\n",
    "list3.remove(20)\n",
    "print(list3)\n",
    "list3.remove(20)\n",
    "print(list3)"
   ]
  },
  {
   "cell_type": "code",
   "execution_count": 27,
   "id": "2d651add",
   "metadata": {},
   "outputs": [
    {
     "name": "stdout",
     "output_type": "stream",
     "text": [
      "[10, 30, 25, 40, 50, 55, [50, 55]]\n",
      "[10, 30, 25, 40, 50, 55, [50, 55], 40]\n"
     ]
    }
   ],
   "source": [
    "#append an element to list\n",
    "print(list2)\n",
    "list2.append(40) #equivalent to insert(len(list2),40)\n",
    "print(list2)"
   ]
  },
  {
   "cell_type": "code",
   "execution_count": 25,
   "id": "c8724109",
   "metadata": {},
   "outputs": [
    {
     "name": "stdout",
     "output_type": "stream",
     "text": [
      "[10, 30, 25, 40]\n",
      "[10, 30, 25, 40, 50, 55]\n"
     ]
    }
   ],
   "source": [
    "#append or insert multiple elements to list\n",
    "print(list2)\n",
    "list2.extend({50,55})#elements in an iterable like (50,55),[50,55],{50,55}\n",
    "print(list2)"
   ]
  },
  {
   "cell_type": "code",
   "execution_count": 28,
   "id": "a3587828",
   "metadata": {},
   "outputs": [
    {
     "name": "stdout",
     "output_type": "stream",
     "text": [
      "[1, 2]\n",
      "[3, 4]\n",
      "[1, 2, 3, 4]\n"
     ]
    }
   ],
   "source": [
    "#merge two lists\n",
    "list1=[1,2]\n",
    "list2=[3,4]\n",
    "print(list1)\n",
    "print(list2)\n",
    "print(list1+list2)"
   ]
  },
  {
   "cell_type": "code",
   "execution_count": 29,
   "id": "e10e7368",
   "metadata": {},
   "outputs": [
    {
     "name": "stdout",
     "output_type": "stream",
     "text": [
      "[1, 2]\n",
      "[3, 4]\n",
      "[5, 6]\n",
      "[1, 2, 3, 4, 5, 6]\n"
     ]
    }
   ],
   "source": [
    "#merge lists-1\n",
    "list1=[1,2]\n",
    "list2=[3,4]\n",
    "list3=[5,6]\n",
    "print(list1)\n",
    "print(list2)\n",
    "print(list3)\n",
    "print(list1+list2+list3)"
   ]
  },
  {
   "cell_type": "code",
   "execution_count": 30,
   "id": "6df9d1d3",
   "metadata": {},
   "outputs": [
    {
     "name": "stdout",
     "output_type": "stream",
     "text": [
      "[1, 2]\n",
      "[3, 4]\n",
      "[5, 6]\n",
      "[1, 2, 3, 4, 5, 6]\n"
     ]
    }
   ],
   "source": [
    "#merge lists-2\n",
    "list1=[1,2]\n",
    "list2=[3,4]\n",
    "list3=[5,6]\n",
    "print(list1)\n",
    "print(list2)\n",
    "print(list3)\n",
    "list1.extend(list2)#list1+list2+list3\n",
    "list1.extend(list3)\n",
    "print(list1)"
   ]
  },
  {
   "cell_type": "code",
   "execution_count": 31,
   "id": "9c302e26",
   "metadata": {},
   "outputs": [],
   "source": [
    "#Remove all items from the list-------method-1\n",
    "list3.clear()"
   ]
  },
  {
   "cell_type": "code",
   "execution_count": 32,
   "id": "5eb16ad7",
   "metadata": {},
   "outputs": [
    {
     "name": "stdout",
     "output_type": "stream",
     "text": [
      "[]\n"
     ]
    }
   ],
   "source": [
    "print(list3)"
   ]
  },
  {
   "cell_type": "code",
   "execution_count": 33,
   "id": "78ce3859",
   "metadata": {},
   "outputs": [
    {
     "name": "stdout",
     "output_type": "stream",
     "text": [
      "[20, 30]\n"
     ]
    },
    {
     "ename": "NameError",
     "evalue": "name 'list2' is not defined",
     "output_type": "error",
     "traceback": [
      "\u001b[1;31m---------------------------------------------------------------------------\u001b[0m",
      "\u001b[1;31mNameError\u001b[0m                                 Traceback (most recent call last)",
      "\u001b[1;32m<ipython-input-33-586dc11a6ef0>\u001b[0m in \u001b[0;36m<module>\u001b[1;34m\u001b[0m\n\u001b[0;32m      3\u001b[0m \u001b[0mprint\u001b[0m\u001b[1;33m(\u001b[0m\u001b[0mlist2\u001b[0m\u001b[1;33m)\u001b[0m\u001b[1;33m\u001b[0m\u001b[1;33m\u001b[0m\u001b[0m\n\u001b[0;32m      4\u001b[0m \u001b[1;32mdel\u001b[0m \u001b[0mlist2\u001b[0m\u001b[1;33m\u001b[0m\u001b[1;33m\u001b[0m\u001b[0m\n\u001b[1;32m----> 5\u001b[1;33m \u001b[0mprint\u001b[0m\u001b[1;33m(\u001b[0m\u001b[0mlist2\u001b[0m\u001b[1;33m)\u001b[0m\u001b[1;33m\u001b[0m\u001b[1;33m\u001b[0m\u001b[0m\n\u001b[0m",
      "\u001b[1;31mNameError\u001b[0m: name 'list2' is not defined"
     ]
    }
   ],
   "source": [
    "#Remove all items from the list--------method-2\n",
    "list2=[20,30]\n",
    "print(list2)\n",
    "del list2\n",
    "print(list2)"
   ]
  },
  {
   "cell_type": "code",
   "execution_count": 35,
   "id": "d1962d6e",
   "metadata": {},
   "outputs": [
    {
     "name": "stdout",
     "output_type": "stream",
     "text": [
      "2\n",
      "2\n"
     ]
    }
   ],
   "source": [
    "#number of times an element appears in the list\n",
    "list1=[10,10,20,30,40,40]\n",
    "print(list1.count(10))\n",
    "print(list1.count(40))"
   ]
  },
  {
   "cell_type": "code",
   "execution_count": 5,
   "id": "0f625fe0",
   "metadata": {},
   "outputs": [
    {
     "name": "stdout",
     "output_type": "stream",
     "text": [
      "[10, 20, 30, 40, 50]\n"
     ]
    }
   ],
   "source": [
    "#Sort the items of the list\n",
    "list1=[20,10,30,50,40]\n",
    "list1.sort()\n",
    "print(list1)"
   ]
  },
  {
   "cell_type": "code",
   "execution_count": 11,
   "id": "50a8acb5",
   "metadata": {},
   "outputs": [
    {
     "name": "stdout",
     "output_type": "stream",
     "text": [
      "[50, 40, 30, 20, 10]\n"
     ]
    }
   ],
   "source": [
    "#reverse the list\n",
    "list1.reverse() #in place command\n",
    "print(list1)"
   ]
  },
  {
   "cell_type": "code",
   "execution_count": 13,
   "id": "c2026d0b",
   "metadata": {},
   "outputs": [
    {
     "data": {
      "text/plain": [
       "[50, 40, 30, 20, 10]"
      ]
     },
     "execution_count": 13,
     "metadata": {},
     "output_type": "execute_result"
    }
   ],
   "source": [
    "#a shallow copy of the list\n",
    "list3=list1.copy()\n",
    "list3"
   ]
  },
  {
   "cell_type": "markdown",
   "id": "0e2856f4",
   "metadata": {},
   "source": [
    "# shallow vs deep copy in another class"
   ]
  }
 ],
 "metadata": {
  "kernelspec": {
   "display_name": "Python 3",
   "language": "python",
   "name": "python3"
  },
  "language_info": {
   "codemirror_mode": {
    "name": "ipython",
    "version": 3
   },
   "file_extension": ".py",
   "mimetype": "text/x-python",
   "name": "python",
   "nbconvert_exporter": "python",
   "pygments_lexer": "ipython3",
   "version": "3.7.7"
  }
 },
 "nbformat": 4,
 "nbformat_minor": 5
}
