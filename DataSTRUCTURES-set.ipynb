{
 "cells": [
  {
   "cell_type": "markdown",
   "id": "7ae24f03",
   "metadata": {},
   "source": [
    "# A set is an unordered collection with no duplicate elements."
   ]
  },
  {
   "cell_type": "code",
   "execution_count": 5,
   "id": "289eb721",
   "metadata": {},
   "outputs": [
    {
     "data": {
      "text/plain": [
       "set()"
      ]
     },
     "execution_count": 5,
     "metadata": {},
     "output_type": "execute_result"
    }
   ],
   "source": [
    "#creation of empty set\n",
    "set1=set()\n",
    "set1"
   ]
  },
  {
   "cell_type": "code",
   "execution_count": 6,
   "id": "6e4b78b3",
   "metadata": {},
   "outputs": [
    {
     "data": {
      "text/plain": [
       "{10, 20, 30}"
      ]
     },
     "execution_count": 6,
     "metadata": {},
     "output_type": "execute_result"
    }
   ],
   "source": [
    "set2={10,20,30}\n",
    "set2"
   ]
  },
  {
   "cell_type": "code",
   "execution_count": 7,
   "id": "dd535b1b",
   "metadata": {},
   "outputs": [
    {
     "data": {
      "text/plain": [
       "{'a', 'b'}"
      ]
     },
     "execution_count": 7,
     "metadata": {},
     "output_type": "execute_result"
    }
   ],
   "source": [
    "set3={'a','b','b'}\n",
    "set3"
   ]
  },
  {
   "cell_type": "markdown",
   "id": "cce33d19",
   "metadata": {},
   "source": [
    "# add and remove elements"
   ]
  },
  {
   "cell_type": "code",
   "execution_count": 59,
   "id": "89d44dd2",
   "metadata": {},
   "outputs": [
    {
     "name": "stdout",
     "output_type": "stream",
     "text": [
      "{333, 222, 111}\n",
      "{333, 111}\n",
      "333\n"
     ]
    },
    {
     "ename": "TypeError",
     "evalue": "pop expected at least 1 arguments, got 0",
     "output_type": "error",
     "traceback": [
      "\u001b[1;31m---------------------------------------------------------------------------\u001b[0m",
      "\u001b[1;31mTypeError\u001b[0m                                 Traceback (most recent call last)",
      "\u001b[1;32m<ipython-input-59-0b0f4f02f060>\u001b[0m in \u001b[0;36m<module>\u001b[1;34m\u001b[0m\n\u001b[0;32m      6\u001b[0m \u001b[0mprint\u001b[0m\u001b[1;33m(\u001b[0m\u001b[0mset_1\u001b[0m\u001b[1;33m)\u001b[0m\u001b[1;33m\u001b[0m\u001b[1;33m\u001b[0m\u001b[0m\n\u001b[0;32m      7\u001b[0m \u001b[0mprint\u001b[0m\u001b[1;33m(\u001b[0m\u001b[0mset_1\u001b[0m\u001b[1;33m.\u001b[0m\u001b[0mpop\u001b[0m\u001b[1;33m(\u001b[0m\u001b[1;33m)\u001b[0m\u001b[1;33m)\u001b[0m\u001b[1;31m#Remove and return an arbitrary element from the set. Raises KeyError if the set is empty.\u001b[0m\u001b[1;33m\u001b[0m\u001b[1;33m\u001b[0m\u001b[0m\n\u001b[1;32m----> 8\u001b[1;33m \u001b[0mprint\u001b[0m\u001b[1;33m(\u001b[0m\u001b[0mset_2\u001b[0m\u001b[1;33m.\u001b[0m\u001b[0mpop\u001b[0m\u001b[1;33m(\u001b[0m\u001b[1;33m)\u001b[0m\u001b[1;33m)\u001b[0m\u001b[1;33m\u001b[0m\u001b[1;33m\u001b[0m\u001b[0m\n\u001b[0m\u001b[0;32m      9\u001b[0m \u001b[0mprint\u001b[0m\u001b[1;33m(\u001b[0m\u001b[0mset_1\u001b[0m\u001b[1;33m.\u001b[0m\u001b[0mdiscard\u001b[0m\u001b[1;33m(\u001b[0m\u001b[1;36m444\u001b[0m\u001b[1;33m)\u001b[0m\u001b[1;33m)\u001b[0m\u001b[1;31m#Remove element elem from the set if it is present\u001b[0m\u001b[1;33m\u001b[0m\u001b[1;33m\u001b[0m\u001b[0m\n\u001b[0;32m     10\u001b[0m \u001b[0mprint\u001b[0m\u001b[1;33m(\u001b[0m\u001b[0mset_1\u001b[0m\u001b[1;33m.\u001b[0m\u001b[0mremove\u001b[0m\u001b[1;33m(\u001b[0m\u001b[1;36m444\u001b[0m\u001b[1;33m)\u001b[0m\u001b[1;33m)\u001b[0m\u001b[1;31m#Remove element elem from the set. Raises KeyError if elem is not contained in the set.\u001b[0m\u001b[1;33m\u001b[0m\u001b[1;33m\u001b[0m\u001b[0m\n",
      "\u001b[1;31mTypeError\u001b[0m: pop expected at least 1 arguments, got 0"
     ]
    }
   ],
   "source": [
    "set_1={111,222}\n",
    "set_2={}\n",
    "set_1.add(333)\n",
    "print(set_1)\n",
    "set_1.remove(222)\n",
    "print(set_1)\n",
    "print(set_1.pop())#Remove and return an arbitrary element from the set. Raises KeyError if the set is empty.\n",
    "print(set_1.discard(444))#Remove element elem from the set if it is present\n",
    "print(set_2.pop())\n",
    "print(set_1.remove(444))#Remove element elem from the set. Raises KeyError if elem is not contained in the set."
   ]
  },
  {
   "cell_type": "code",
   "execution_count": null,
   "id": "7724f908",
   "metadata": {},
   "outputs": [],
   "source": []
  },
  {
   "cell_type": "markdown",
   "id": "815cdd1a",
   "metadata": {},
   "source": [
    "# Access set elements"
   ]
  },
  {
   "cell_type": "code",
   "execution_count": 9,
   "id": "656ef44a",
   "metadata": {},
   "outputs": [
    {
     "name": "stdout",
     "output_type": "stream",
     "text": [
      "a\n",
      "b\n"
     ]
    }
   ],
   "source": [
    "for element in set3:\n",
    "    print(element)"
   ]
  },
  {
   "cell_type": "code",
   "execution_count": 11,
   "id": "3a6063f3",
   "metadata": {},
   "outputs": [
    {
     "data": {
      "text/plain": [
       "2"
      ]
     },
     "execution_count": 11,
     "metadata": {},
     "output_type": "execute_result"
    }
   ],
   "source": [
    "len(set3)"
   ]
  },
  {
   "cell_type": "markdown",
   "id": "05f3c8ff",
   "metadata": {},
   "source": [
    "# membership in set"
   ]
  },
  {
   "cell_type": "code",
   "execution_count": 12,
   "id": "0ac8e0a6",
   "metadata": {},
   "outputs": [
    {
     "data": {
      "text/plain": [
       "True"
      ]
     },
     "execution_count": 12,
     "metadata": {},
     "output_type": "execute_result"
    }
   ],
   "source": [
    "'a' in set3"
   ]
  },
  {
   "cell_type": "code",
   "execution_count": 13,
   "id": "eb0c01eb",
   "metadata": {},
   "outputs": [
    {
     "data": {
      "text/plain": [
       "False"
      ]
     },
     "execution_count": 13,
     "metadata": {},
     "output_type": "execute_result"
    }
   ],
   "source": [
    "'c' in set3"
   ]
  },
  {
   "cell_type": "code",
   "execution_count": 14,
   "id": "68aed298",
   "metadata": {},
   "outputs": [
    {
     "data": {
      "text/plain": [
       "True"
      ]
     },
     "execution_count": 14,
     "metadata": {},
     "output_type": "execute_result"
    }
   ],
   "source": [
    "'c' not in set3"
   ]
  },
  {
   "cell_type": "markdown",
   "id": "1b47c0f9",
   "metadata": {},
   "source": [
    "# disjoint"
   ]
  },
  {
   "cell_type": "code",
   "execution_count": 15,
   "id": "4215d8ad",
   "metadata": {},
   "outputs": [
    {
     "data": {
      "text/plain": [
       "True"
      ]
     },
     "execution_count": 15,
     "metadata": {},
     "output_type": "execute_result"
    }
   ],
   "source": [
    "#Return True if the set has no elements in common with other. \n",
    "#Sets are disjoint if and only if their intersection is the empty set.\n",
    "set2.isdisjoint(set3)"
   ]
  },
  {
   "cell_type": "markdown",
   "id": "bcc6e743",
   "metadata": {},
   "source": [
    "# is subset"
   ]
  },
  {
   "cell_type": "code",
   "execution_count": 28,
   "id": "7762d749",
   "metadata": {},
   "outputs": [
    {
     "data": {
      "text/plain": [
       "True"
      ]
     },
     "execution_count": 28,
     "metadata": {},
     "output_type": "execute_result"
    }
   ],
   "source": [
    "#METHOD-1\n",
    "set2={10,20,30}\n",
    "set4={10,20}\n",
    "set4.issubset(set2)"
   ]
  },
  {
   "cell_type": "code",
   "execution_count": 29,
   "id": "a1cffa18",
   "metadata": {},
   "outputs": [
    {
     "data": {
      "text/plain": [
       "True"
      ]
     },
     "execution_count": 29,
     "metadata": {},
     "output_type": "execute_result"
    }
   ],
   "source": [
    "#METHOD-2\n",
    "set4<=set2"
   ]
  },
  {
   "cell_type": "code",
   "execution_count": 23,
   "id": "e2521a1d",
   "metadata": {},
   "outputs": [
    {
     "name": "stdout",
     "output_type": "stream",
     "text": [
      "False\n",
      "True\n"
     ]
    }
   ],
   "source": [
    "#Test whether the set is a proper subset of other, that is, set <= other and set != other\n",
    "set5={1,2}\n",
    "set6={1,2}\n",
    "print(set5<set6)#proper subset\n",
    "print(set5<=set6)#suset\n",
    "del set5,set6"
   ]
  },
  {
   "cell_type": "markdown",
   "id": "0237b13f",
   "metadata": {},
   "source": [
    "# superset"
   ]
  },
  {
   "cell_type": "code",
   "execution_count": 30,
   "id": "f94cc15f",
   "metadata": {},
   "outputs": [
    {
     "data": {
      "text/plain": [
       "True"
      ]
     },
     "execution_count": 30,
     "metadata": {},
     "output_type": "execute_result"
    }
   ],
   "source": [
    "#METHOD-1\n",
    "set2={10,20,30}\n",
    "set4={10,20}\n",
    "set2.issuperset(set4)"
   ]
  },
  {
   "cell_type": "code",
   "execution_count": 32,
   "id": "dc503ad0",
   "metadata": {},
   "outputs": [
    {
     "data": {
      "text/plain": [
       "False"
      ]
     },
     "execution_count": 32,
     "metadata": {},
     "output_type": "execute_result"
    }
   ],
   "source": [
    "#METHOD-2\n",
    "set4>=set2"
   ]
  },
  {
   "cell_type": "code",
   "execution_count": 33,
   "id": "f621d824",
   "metadata": {},
   "outputs": [
    {
     "name": "stdout",
     "output_type": "stream",
     "text": [
      "False\n",
      "True\n"
     ]
    }
   ],
   "source": [
    "set5={1,2}\n",
    "set6={1,2}\n",
    "print(set5>set6)#proper superset\n",
    "print(set5>=set6)#superset\n",
    "del set5,set6"
   ]
  },
  {
   "cell_type": "markdown",
   "id": "7b936004",
   "metadata": {},
   "source": [
    "# union"
   ]
  },
  {
   "cell_type": "code",
   "execution_count": 34,
   "id": "e94d3972",
   "metadata": {},
   "outputs": [
    {
     "data": {
      "text/plain": [
       "{10, 20, 30, 'a', 'b'}"
      ]
     },
     "execution_count": 34,
     "metadata": {},
     "output_type": "execute_result"
    }
   ],
   "source": [
    "#METHOD-1\n",
    "set2|set3"
   ]
  },
  {
   "cell_type": "code",
   "execution_count": 35,
   "id": "786f1886",
   "metadata": {},
   "outputs": [
    {
     "data": {
      "text/plain": [
       "{10, 20, 30, 'a', 'b'}"
      ]
     },
     "execution_count": 35,
     "metadata": {},
     "output_type": "execute_result"
    }
   ],
   "source": [
    "#METHOD-2\n",
    "set2.union(set3)"
   ]
  },
  {
   "cell_type": "markdown",
   "id": "02ca6b43",
   "metadata": {},
   "source": [
    "# intersection"
   ]
  },
  {
   "cell_type": "code",
   "execution_count": 36,
   "id": "f5816798",
   "metadata": {},
   "outputs": [
    {
     "data": {
      "text/plain": [
       "{10, 20}"
      ]
     },
     "execution_count": 36,
     "metadata": {},
     "output_type": "execute_result"
    }
   ],
   "source": [
    "#METHOD-1\n",
    "set2={10,20,30}\n",
    "set4={10,20}\n",
    "set2&set4"
   ]
  },
  {
   "cell_type": "code",
   "execution_count": 38,
   "id": "01ee002e",
   "metadata": {},
   "outputs": [
    {
     "data": {
      "text/plain": [
       "{10, 20}"
      ]
     },
     "execution_count": 38,
     "metadata": {},
     "output_type": "execute_result"
    }
   ],
   "source": [
    "#METHOD-2\n",
    "set2.intersection(set4)"
   ]
  },
  {
   "cell_type": "markdown",
   "id": "01006f12",
   "metadata": {},
   "source": [
    "# difference"
   ]
  },
  {
   "cell_type": "code",
   "execution_count": 39,
   "id": "00777f74",
   "metadata": {},
   "outputs": [
    {
     "data": {
      "text/plain": [
       "{30}"
      ]
     },
     "execution_count": 39,
     "metadata": {},
     "output_type": "execute_result"
    }
   ],
   "source": [
    "#METHOD-1\n",
    "set2={10,20,30}\n",
    "set4={10,20}\n",
    "set2-set4"
   ]
  },
  {
   "cell_type": "code",
   "execution_count": 40,
   "id": "dbeac951",
   "metadata": {},
   "outputs": [
    {
     "data": {
      "text/plain": [
       "{30}"
      ]
     },
     "execution_count": 40,
     "metadata": {},
     "output_type": "execute_result"
    }
   ],
   "source": [
    "#METHOD-2\n",
    "set2.difference(set4)"
   ]
  },
  {
   "cell_type": "markdown",
   "id": "1adaa4df",
   "metadata": {},
   "source": [
    "# symmetric_difference"
   ]
  },
  {
   "cell_type": "code",
   "execution_count": 41,
   "id": "9ca07b9d",
   "metadata": {},
   "outputs": [
    {
     "data": {
      "text/plain": [
       "{30}"
      ]
     },
     "execution_count": 41,
     "metadata": {},
     "output_type": "execute_result"
    }
   ],
   "source": [
    "set2.symmetric_difference(set4)"
   ]
  },
  {
   "cell_type": "code",
   "execution_count": 42,
   "id": "875abd2a",
   "metadata": {},
   "outputs": [
    {
     "data": {
      "text/plain": [
       "{30}"
      ]
     },
     "execution_count": 42,
     "metadata": {},
     "output_type": "execute_result"
    }
   ],
   "source": [
    "set4.symmetric_difference(set2)"
   ]
  },
  {
   "cell_type": "code",
   "execution_count": 43,
   "id": "fe49731f",
   "metadata": {},
   "outputs": [
    {
     "data": {
      "text/plain": [
       "{30}"
      ]
     },
     "execution_count": 43,
     "metadata": {},
     "output_type": "execute_result"
    }
   ],
   "source": [
    "set4^set2"
   ]
  },
  {
   "cell_type": "markdown",
   "id": "a2f0d1b6",
   "metadata": {},
   "source": [
    "# copy"
   ]
  },
  {
   "cell_type": "code",
   "execution_count": 61,
   "id": "ed992172",
   "metadata": {},
   "outputs": [
    {
     "data": {
      "text/plain": [
       "{10, 20, 30}"
      ]
     },
     "execution_count": 61,
     "metadata": {},
     "output_type": "execute_result"
    }
   ],
   "source": [
    "#shallow copy\n",
    "set5=set2.copy()\n",
    "set5"
   ]
  },
  {
   "cell_type": "code",
   "execution_count": 62,
   "id": "9b240c9d",
   "metadata": {},
   "outputs": [
    {
     "name": "stdout",
     "output_type": "stream",
     "text": [
      "set()\n"
     ]
    }
   ],
   "source": [
    "#Remove all elements from the set.\n",
    "set5.clear()\n",
    "print(set5)"
   ]
  },
  {
   "cell_type": "markdown",
   "id": "65b5b282",
   "metadata": {},
   "source": [
    "# FROZEN SETS\n",
    "#when set is immutable"
   ]
  },
  {
   "cell_type": "code",
   "execution_count": 50,
   "id": "80aaf900",
   "metadata": {},
   "outputs": [
    {
     "name": "stdout",
     "output_type": "stream",
     "text": [
      "frozenset({33, 11, 22})\n"
     ]
    }
   ],
   "source": [
    "#creating frozen set\n",
    "elements=(11,22,33)\n",
    "fset=frozenset(elements)\n",
    "print(fset)"
   ]
  }
 ],
 "metadata": {
  "kernelspec": {
   "display_name": "Python 3",
   "language": "python",
   "name": "python3"
  },
  "language_info": {
   "codemirror_mode": {
    "name": "ipython",
    "version": 3
   },
   "file_extension": ".py",
   "mimetype": "text/x-python",
   "name": "python",
   "nbconvert_exporter": "python",
   "pygments_lexer": "ipython3",
   "version": "3.7.7"
  }
 },
 "nbformat": 4,
 "nbformat_minor": 5
}
