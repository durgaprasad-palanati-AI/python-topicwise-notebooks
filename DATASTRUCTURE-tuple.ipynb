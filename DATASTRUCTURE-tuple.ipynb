{
 "cells": [
  {
   "cell_type": "markdown",
   "id": "13de41de",
   "metadata": {},
   "source": [
    "# Tuples are immutable sequences, typically used to store collections of heterogeneous data "
   ]
  },
  {
   "cell_type": "markdown",
   "id": "01dfadf9",
   "metadata": {},
   "source": [
    "# Tuple creation"
   ]
  },
  {
   "cell_type": "code",
   "execution_count": 1,
   "id": "8a79dfbe",
   "metadata": {},
   "outputs": [
    {
     "name": "stdout",
     "output_type": "stream",
     "text": [
      "<class 'tuple'>\n",
      "<class 'type'>\n"
     ]
    }
   ],
   "source": [
    "#METHOD-1\n",
    "tuple1=tuple\n",
    "print(tuple1)\n",
    "print(type(tuple1))"
   ]
  },
  {
   "cell_type": "code",
   "execution_count": 2,
   "id": "73340aca",
   "metadata": {},
   "outputs": [
    {
     "name": "stdout",
     "output_type": "stream",
     "text": [
      "('a', 'b', 'c')\n"
     ]
    }
   ],
   "source": [
    "#method-2\n",
    "tuple2=('a','b','c')\n",
    "print(tuple2)"
   ]
  },
  {
   "cell_type": "code",
   "execution_count": 3,
   "id": "92101f47",
   "metadata": {},
   "outputs": [
    {
     "name": "stdout",
     "output_type": "stream",
     "text": [
      "()\n"
     ]
    }
   ],
   "source": [
    "#method-3\n",
    "tuple_x=()\n",
    "print(tuple_x)"
   ]
  },
  {
   "cell_type": "code",
   "execution_count": 4,
   "id": "f5ca84d7",
   "metadata": {},
   "outputs": [
    {
     "name": "stdout",
     "output_type": "stream",
     "text": [
      "(111, 'abc')\n",
      "<class 'tuple'>\n"
     ]
    }
   ],
   "source": [
    "#method-4\n",
    "tuple_y=111,'abc'\n",
    "print(tuple_y)\n",
    "print(type(tuple_y))"
   ]
  },
  {
   "cell_type": "markdown",
   "id": "47564778",
   "metadata": {},
   "source": [
    "# operations on tuples"
   ]
  },
  {
   "cell_type": "code",
   "execution_count": 5,
   "id": "ac7ed01c",
   "metadata": {},
   "outputs": [
    {
     "name": "stdout",
     "output_type": "stream",
     "text": [
      "a\n"
     ]
    }
   ],
   "source": [
    "#access tuple element\n",
    "print(tuple2[0])"
   ]
  },
  {
   "cell_type": "code",
   "execution_count": 6,
   "id": "78de4a4a",
   "metadata": {},
   "outputs": [
    {
     "name": "stdout",
     "output_type": "stream",
     "text": [
      "3\n"
     ]
    }
   ],
   "source": [
    "#length of tuple\n",
    "print(len(tuple2))"
   ]
  },
  {
   "cell_type": "code",
   "execution_count": 7,
   "id": "276a6a52",
   "metadata": {},
   "outputs": [
    {
     "name": "stdout",
     "output_type": "stream",
     "text": [
      "a\n",
      "b\n",
      "c\n"
     ]
    }
   ],
   "source": [
    "for element in tuple2:\n",
    "    print(element)"
   ]
  },
  {
   "cell_type": "code",
   "execution_count": 8,
   "id": "602089ca",
   "metadata": {},
   "outputs": [
    {
     "name": "stdout",
     "output_type": "stream",
     "text": [
      "111 abc\n"
     ]
    }
   ],
   "source": [
    "#access by unpacking\n",
    "m,n=tuple_y\n",
    "print(m,n)"
   ]
  },
  {
   "cell_type": "code",
   "execution_count": 9,
   "id": "62f4007e",
   "metadata": {},
   "outputs": [
    {
     "name": "stdout",
     "output_type": "stream",
     "text": [
      "('a', 'b', 'c', 1, 2, 3)\n"
     ]
    }
   ],
   "source": [
    "#merging two tuples\n",
    "tuple3=(1,2,3)\n",
    "tuple4=tuple2+tuple3\n",
    "print(tuple4)"
   ]
  },
  {
   "cell_type": "code",
   "execution_count": 10,
   "id": "34e551ed",
   "metadata": {},
   "outputs": [
    {
     "ename": "NameError",
     "evalue": "name 'tuple3' is not defined",
     "output_type": "error",
     "traceback": [
      "\u001b[1;31m---------------------------------------------------------------------------\u001b[0m",
      "\u001b[1;31mNameError\u001b[0m                                 Traceback (most recent call last)",
      "\u001b[1;32m<ipython-input-10-f7fa686822a7>\u001b[0m in \u001b[0;36m<module>\u001b[1;34m\u001b[0m\n\u001b[0;32m      1\u001b[0m \u001b[1;32mdel\u001b[0m \u001b[0mtuple3\u001b[0m\u001b[1;33m\u001b[0m\u001b[1;33m\u001b[0m\u001b[0m\n\u001b[1;32m----> 2\u001b[1;33m \u001b[0mprint\u001b[0m\u001b[1;33m(\u001b[0m\u001b[0mtuple3\u001b[0m\u001b[1;33m)\u001b[0m\u001b[1;33m\u001b[0m\u001b[1;33m\u001b[0m\u001b[0m\n\u001b[0m",
      "\u001b[1;31mNameError\u001b[0m: name 'tuple3' is not defined"
     ]
    }
   ],
   "source": [
    "del tuple3\n",
    "print(tuple3)"
   ]
  },
  {
   "cell_type": "code",
   "execution_count": null,
   "id": "420339c1",
   "metadata": {},
   "outputs": [],
   "source": [
    "tuple2"
   ]
  },
  {
   "cell_type": "code",
   "execution_count": null,
   "id": "3294bd97",
   "metadata": {},
   "outputs": [],
   "source": [
    "tuple2[0]='d'#does not support\n",
    "tuple2"
   ]
  }
 ],
 "metadata": {
  "kernelspec": {
   "display_name": "Python 3",
   "language": "python",
   "name": "python3"
  },
  "language_info": {
   "codemirror_mode": {
    "name": "ipython",
    "version": 3
   },
   "file_extension": ".py",
   "mimetype": "text/x-python",
   "name": "python",
   "nbconvert_exporter": "python",
   "pygments_lexer": "ipython3",
   "version": "3.7.7"
  }
 },
 "nbformat": 4,
 "nbformat_minor": 5
}
