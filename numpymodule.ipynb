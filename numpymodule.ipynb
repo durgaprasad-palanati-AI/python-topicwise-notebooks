{
 "cells": [
  {
   "cell_type": "code",
   "execution_count": 2,
   "id": "a177ae7b",
   "metadata": {},
   "outputs": [],
   "source": [
    "import numpy as np"
   ]
  },
  {
   "cell_type": "markdown",
   "id": "9fd35bcd",
   "metadata": {},
   "source": [
    "# the elements in a NumPy array should be homogeneous"
   ]
  },
  {
   "cell_type": "code",
   "execution_count": 3,
   "id": "9fe78b31",
   "metadata": {},
   "outputs": [],
   "source": [
    "#To create a NumPy array, you can use the function np.array()\n",
    "a = np.array([10, 20, 30, 40, 50, 60])"
   ]
  },
  {
   "cell_type": "code",
   "execution_count": 4,
   "id": "2ef65120",
   "metadata": {},
   "outputs": [
    {
     "data": {
      "text/plain": [
       "array([10, 20, 30, 40, 50, 60])"
      ]
     },
     "execution_count": 4,
     "metadata": {},
     "output_type": "execute_result"
    }
   ],
   "source": [
    "a"
   ]
  },
  {
   "cell_type": "code",
   "execution_count": 5,
   "id": "6f44fbaf",
   "metadata": {},
   "outputs": [
    {
     "data": {
      "text/plain": [
       "10"
      ]
     },
     "execution_count": 5,
     "metadata": {},
     "output_type": "execute_result"
    }
   ],
   "source": [
    "#access elements\n",
    "a[0]"
   ]
  },
  {
   "cell_type": "code",
   "execution_count": 6,
   "id": "796a2416",
   "metadata": {},
   "outputs": [
    {
     "data": {
      "text/plain": [
       "array([0., 0., 0., 0.])"
      ]
     },
     "execution_count": 6,
     "metadata": {},
     "output_type": "execute_result"
    }
   ],
   "source": [
    "#np.zeros()\n",
    "b=np.zeros(4)\n",
    "b"
   ]
  },
  {
   "cell_type": "code",
   "execution_count": 8,
   "id": "3bc71f8e",
   "metadata": {},
   "outputs": [],
   "source": [
    "#To create a NumPy array, you can use the function np.array()\n",
    "b = np.array([[10, 20, 30], [40, 50, 60]])"
   ]
  },
  {
   "cell_type": "code",
   "execution_count": 11,
   "id": "53650fd4",
   "metadata": {},
   "outputs": [
    {
     "data": {
      "text/plain": [
       "6"
      ]
     },
     "execution_count": 11,
     "metadata": {},
     "output_type": "execute_result"
    }
   ],
   "source": [
    "b.size #number of elements"
   ]
  },
  {
   "cell_type": "code",
   "execution_count": 12,
   "id": "e6e11a36",
   "metadata": {},
   "outputs": [
    {
     "data": {
      "text/plain": [
       "(2, 3)"
      ]
     },
     "execution_count": 12,
     "metadata": {},
     "output_type": "execute_result"
    }
   ],
   "source": [
    "b.shape #dimensions of array"
   ]
  },
  {
   "cell_type": "code",
   "execution_count": 37,
   "id": "6ed9d461",
   "metadata": {},
   "outputs": [
    {
     "data": {
      "text/plain": [
       "2"
      ]
     },
     "execution_count": 37,
     "metadata": {},
     "output_type": "execute_result"
    }
   ],
   "source": [
    "#find the number of dimensions of the array\n",
    "b.ndim"
   ]
  },
  {
   "cell_type": "code",
   "execution_count": 41,
   "id": "3eaf4766",
   "metadata": {},
   "outputs": [
    {
     "data": {
      "text/plain": [
       "3"
      ]
     },
     "execution_count": 41,
     "metadata": {},
     "output_type": "execute_result"
    }
   ],
   "source": [
    "b = np.array([\n",
    "    [\n",
    "        [10, 20, 30]\n",
    "    ], \n",
    "    [\n",
    "        [40, 50,60]\n",
    "    ],\n",
    "    [\n",
    "        [70,80,90]\n",
    "    ]\n",
    "])\n",
    "b.ndim"
   ]
  },
  {
   "cell_type": "code",
   "execution_count": 42,
   "id": "6139f512",
   "metadata": {},
   "outputs": [
    {
     "data": {
      "text/plain": [
       "(3, 1, 3)"
      ]
     },
     "execution_count": 42,
     "metadata": {},
     "output_type": "execute_result"
    }
   ],
   "source": [
    "b.shape"
   ]
  },
  {
   "cell_type": "markdown",
   "id": "dc624a6f",
   "metadata": {},
   "source": [
    "# create an array filled with 0’s"
   ]
  },
  {
   "cell_type": "code",
   "execution_count": 32,
   "id": "656f4db8",
   "metadata": {},
   "outputs": [
    {
     "data": {
      "text/plain": [
       "array([0., 0., 0., 0.])"
      ]
     },
     "execution_count": 32,
     "metadata": {},
     "output_type": "execute_result"
    }
   ],
   "source": [
    "np.zeros(4)"
   ]
  },
  {
   "cell_type": "markdown",
   "id": "0754a293",
   "metadata": {},
   "source": [
    "# an array filled with 1’s"
   ]
  },
  {
   "cell_type": "code",
   "execution_count": 33,
   "id": "6d470cb1",
   "metadata": {},
   "outputs": [
    {
     "data": {
      "text/plain": [
       "array([1., 1., 1., 1.])"
      ]
     },
     "execution_count": 33,
     "metadata": {},
     "output_type": "execute_result"
    }
   ],
   "source": [
    "#the default data type is floating point (np.float64)\n",
    "np.ones(4)"
   ]
  },
  {
   "cell_type": "code",
   "execution_count": 36,
   "id": "fd354874",
   "metadata": {},
   "outputs": [
    {
     "data": {
      "text/plain": [
       "array([1, 1, 1], dtype=int64)"
      ]
     },
     "execution_count": 36,
     "metadata": {},
     "output_type": "execute_result"
    }
   ],
   "source": [
    "#you can explicitly specify which data type you want using the dtype keyword\n",
    "np.ones(3,dtype=np.int64)"
   ]
  },
  {
   "cell_type": "markdown",
   "id": "34d2930f",
   "metadata": {},
   "source": [
    "# The function empty creates an array whose initial content is random and depends on the state of the memory. "
   ]
  },
  {
   "cell_type": "code",
   "execution_count": 19,
   "id": "df90801d",
   "metadata": {},
   "outputs": [
    {
     "data": {
      "text/plain": [
       "array([8.44747281e+252, 9.78766460e+199, 4.84287705e+257])"
      ]
     },
     "execution_count": 19,
     "metadata": {},
     "output_type": "execute_result"
    }
   ],
   "source": [
    "np.empty(3)"
   ]
  },
  {
   "cell_type": "markdown",
   "id": "613f8894",
   "metadata": {},
   "source": [
    "# create an array with a range of element"
   ]
  },
  {
   "cell_type": "code",
   "execution_count": 21,
   "id": "45afb575",
   "metadata": {},
   "outputs": [
    {
     "data": {
      "text/plain": [
       "array([0, 1, 2, 3, 4])"
      ]
     },
     "execution_count": 21,
     "metadata": {},
     "output_type": "execute_result"
    }
   ],
   "source": [
    "np.arange(5)"
   ]
  },
  {
   "cell_type": "code",
   "execution_count": 22,
   "id": "cacf7216",
   "metadata": {},
   "outputs": [
    {
     "data": {
      "text/plain": [
       "array([0, 1, 2, 3, 4, 5, 6, 7, 8, 9])"
      ]
     },
     "execution_count": 22,
     "metadata": {},
     "output_type": "execute_result"
    }
   ],
   "source": [
    "np.arange(10)"
   ]
  },
  {
   "cell_type": "markdown",
   "id": "d823aea9",
   "metadata": {},
   "source": [
    "# an array that contains a range of evenly spaced intervals"
   ]
  },
  {
   "cell_type": "code",
   "execution_count": 24,
   "id": "cbaf50ca",
   "metadata": {},
   "outputs": [
    {
     "data": {
      "text/plain": [
       "array([0, 3, 6, 9])"
      ]
     },
     "execution_count": 24,
     "metadata": {},
     "output_type": "execute_result"
    }
   ],
   "source": [
    "np.arange(0,12,3) # arange(first number, last number,the step size)"
   ]
  },
  {
   "cell_type": "markdown",
   "id": "b95ccd53",
   "metadata": {},
   "source": [
    "# create an array with values that are spaced linearly in a specified interval"
   ]
  },
  {
   "cell_type": "code",
   "execution_count": 31,
   "id": "21418c03",
   "metadata": {},
   "outputs": [
    {
     "data": {
      "text/plain": [
       "array([ 0.        ,  3.33333333,  6.66666667, 10.        ])"
      ]
     },
     "execution_count": 31,
     "metadata": {},
     "output_type": "execute_result"
    }
   ],
   "source": [
    "np.linspace(0,10,4)"
   ]
  },
  {
   "cell_type": "markdown",
   "id": "c05995c1",
   "metadata": {},
   "source": [
    "# concatenate - np.concatenate((arr,....))"
   ]
  },
  {
   "cell_type": "code",
   "execution_count": 44,
   "id": "06f4d8df",
   "metadata": {},
   "outputs": [],
   "source": [
    "arr1=np.array([10,20,30])\n",
    "arr2=np.array([40,50,60])"
   ]
  },
  {
   "cell_type": "code",
   "execution_count": 46,
   "id": "2351be78",
   "metadata": {},
   "outputs": [
    {
     "data": {
      "text/plain": [
       "array([10, 20, 30, 40, 50, 60])"
      ]
     },
     "execution_count": 46,
     "metadata": {},
     "output_type": "execute_result"
    }
   ],
   "source": [
    "np.concatenate((arr1,arr2))"
   ]
  },
  {
   "cell_type": "code",
   "execution_count": 47,
   "id": "b8af681d",
   "metadata": {},
   "outputs": [
    {
     "data": {
      "text/plain": [
       "array([10, 20, 30, 40, 50, 60])"
      ]
     },
     "execution_count": 47,
     "metadata": {},
     "output_type": "execute_result"
    }
   ],
   "source": [
    "np.concatenate((arr1,arr2),axis=0)"
   ]
  },
  {
   "cell_type": "code",
   "execution_count": 57,
   "id": "e8a77f89",
   "metadata": {},
   "outputs": [],
   "source": [
    "arr1=np.array([[10,20,30],[15,25,35],[16,26,36]])\n",
    "arr2=np.array([[40,50,60],[45,55,65],[46,56,66]])"
   ]
  },
  {
   "cell_type": "code",
   "execution_count": 62,
   "id": "e2c54d3e",
   "metadata": {},
   "outputs": [
    {
     "data": {
      "text/plain": [
       "array([[10, 20, 30, 40, 50, 60],\n",
       "       [15, 25, 35, 45, 55, 65],\n",
       "       [16, 26, 36, 46, 56, 66]])"
      ]
     },
     "execution_count": 62,
     "metadata": {},
     "output_type": "execute_result"
    }
   ],
   "source": [
    "np.concatenate((arr1,arr2),axis=1)"
   ]
  },
  {
   "cell_type": "code",
   "execution_count": 64,
   "id": "085b8240",
   "metadata": {},
   "outputs": [],
   "source": [
    "arr1=np.array([[[10,20,30]],[[15,25,35]],[[16,26,36]]])\n",
    "arr2=np.array([[[40,50,60]],[[45,55,65]],[[46,56,66]]])"
   ]
  },
  {
   "cell_type": "code",
   "execution_count": 65,
   "id": "9bcac44f",
   "metadata": {},
   "outputs": [
    {
     "data": {
      "text/plain": [
       "array([[[10, 20, 30]],\n",
       "\n",
       "       [[15, 25, 35]],\n",
       "\n",
       "       [[16, 26, 36]],\n",
       "\n",
       "       [[40, 50, 60]],\n",
       "\n",
       "       [[45, 55, 65]],\n",
       "\n",
       "       [[46, 56, 66]]])"
      ]
     },
     "execution_count": 65,
     "metadata": {},
     "output_type": "execute_result"
    }
   ],
   "source": [
    "np.concatenate((arr1,arr2),axis=0)"
   ]
  },
  {
   "cell_type": "code",
   "execution_count": 66,
   "id": "04a8c5f3",
   "metadata": {},
   "outputs": [
    {
     "data": {
      "text/plain": [
       "array([[[10, 20, 30],\n",
       "        [40, 50, 60]],\n",
       "\n",
       "       [[15, 25, 35],\n",
       "        [45, 55, 65]],\n",
       "\n",
       "       [[16, 26, 36],\n",
       "        [46, 56, 66]]])"
      ]
     },
     "execution_count": 66,
     "metadata": {},
     "output_type": "execute_result"
    }
   ],
   "source": [
    "np.concatenate((arr1,arr2),axis=1)"
   ]
  },
  {
   "cell_type": "code",
   "execution_count": 67,
   "id": "004a180f",
   "metadata": {},
   "outputs": [
    {
     "data": {
      "text/plain": [
       "array([[[10, 20, 30, 40, 50, 60]],\n",
       "\n",
       "       [[15, 25, 35, 45, 55, 65]],\n",
       "\n",
       "       [[16, 26, 36, 46, 56, 66]]])"
      ]
     },
     "execution_count": 67,
     "metadata": {},
     "output_type": "execute_result"
    }
   ],
   "source": [
    "np.concatenate((arr1,arr2),axis=2)"
   ]
  },
  {
   "cell_type": "code",
   "execution_count": 68,
   "id": "969dd798",
   "metadata": {},
   "outputs": [
    {
     "data": {
      "text/plain": [
       "array([[[10, 20, 30]],\n",
       "\n",
       "       [[15, 25, 35]],\n",
       "\n",
       "       [[16, 26, 36]],\n",
       "\n",
       "       [[40, 50, 60]],\n",
       "\n",
       "       [[45, 55, 65]],\n",
       "\n",
       "       [[46, 56, 66]]])"
      ]
     },
     "execution_count": 68,
     "metadata": {},
     "output_type": "execute_result"
    }
   ],
   "source": [
    "np.concatenate((arr1,arr2))"
   ]
  },
  {
   "cell_type": "markdown",
   "id": "7d4ba661",
   "metadata": {},
   "source": [
    "# arr.reshape()-will give a new shape to an array without changing the data"
   ]
  },
  {
   "cell_type": "code",
   "execution_count": 69,
   "id": "79006c97",
   "metadata": {},
   "outputs": [],
   "source": [
    "arr3=np.array([10,20,30,40])"
   ]
  },
  {
   "cell_type": "code",
   "execution_count": 70,
   "id": "7c4239cd",
   "metadata": {},
   "outputs": [
    {
     "data": {
      "text/plain": [
       "array([[10, 20],\n",
       "       [30, 40]])"
      ]
     },
     "execution_count": 70,
     "metadata": {},
     "output_type": "execute_result"
    }
   ],
   "source": [
    "arr3.reshape(2,2,)"
   ]
  },
  {
   "cell_type": "code",
   "execution_count": 74,
   "id": "bff59f2d",
   "metadata": {},
   "outputs": [
    {
     "data": {
      "text/plain": [
       "(2, 2)"
      ]
     },
     "execution_count": 74,
     "metadata": {},
     "output_type": "execute_result"
    }
   ],
   "source": [
    "arr4=np.array([[10,20],[30,40]])\n",
    "arr4.shape"
   ]
  },
  {
   "cell_type": "code",
   "execution_count": 76,
   "id": "bceea8af",
   "metadata": {},
   "outputs": [],
   "source": [
    "#to flatten the array\n",
    "arr=arr4.reshape(-1)"
   ]
  },
  {
   "cell_type": "code",
   "execution_count": 77,
   "id": "15a9b821",
   "metadata": {},
   "outputs": [
    {
     "data": {
      "text/plain": [
       "array([10, 20, 30, 40])"
      ]
     },
     "execution_count": 77,
     "metadata": {},
     "output_type": "execute_result"
    }
   ],
   "source": [
    "arr"
   ]
  },
  {
   "cell_type": "code",
   "execution_count": 78,
   "id": "baf028d1",
   "metadata": {},
   "outputs": [
    {
     "data": {
      "text/plain": [
       "(4,)"
      ]
     },
     "execution_count": 78,
     "metadata": {},
     "output_type": "execute_result"
    }
   ],
   "source": [
    "arr.shape"
   ]
  },
  {
   "cell_type": "markdown",
   "id": "d1be153a",
   "metadata": {},
   "source": [
    "# Indexing and slicing"
   ]
  },
  {
   "cell_type": "code",
   "execution_count": 79,
   "id": "92841a8b",
   "metadata": {},
   "outputs": [],
   "source": [
    "arr3=np.array([10,20,30,40])"
   ]
  },
  {
   "cell_type": "code",
   "execution_count": 80,
   "id": "7fe4220e",
   "metadata": {},
   "outputs": [
    {
     "data": {
      "text/plain": [
       "40"
      ]
     },
     "execution_count": 80,
     "metadata": {},
     "output_type": "execute_result"
    }
   ],
   "source": [
    "arr3[3]"
   ]
  },
  {
   "cell_type": "code",
   "execution_count": 84,
   "id": "efe7979c",
   "metadata": {},
   "outputs": [
    {
     "name": "stdout",
     "output_type": "stream",
     "text": [
      "10\n",
      "20\n",
      "30\n",
      "40\n"
     ]
    }
   ],
   "source": [
    "#iterate array\n",
    "for index in range(0,arr3.size):\n",
    "    print(arr3[index])"
   ]
  },
  {
   "cell_type": "code",
   "execution_count": 85,
   "id": "3ce7b9af",
   "metadata": {},
   "outputs": [],
   "source": [
    "arr4=np.array([[10,20],[30,40]])"
   ]
  },
  {
   "cell_type": "code",
   "execution_count": 90,
   "id": "01c30724",
   "metadata": {},
   "outputs": [
    {
     "data": {
      "text/plain": [
       "(2, 2)"
      ]
     },
     "execution_count": 90,
     "metadata": {},
     "output_type": "execute_result"
    }
   ],
   "source": [
    "arr4.shape"
   ]
  },
  {
   "cell_type": "code",
   "execution_count": 94,
   "id": "4ff00637",
   "metadata": {},
   "outputs": [
    {
     "name": "stdout",
     "output_type": "stream",
     "text": [
      "[10 20]\n",
      "[30 40]\n"
     ]
    }
   ],
   "source": [
    "for i in range(0,arr4.shape[0]):\n",
    "    print(arr4[i])"
   ]
  },
  {
   "cell_type": "code",
   "execution_count": 105,
   "id": "af72be8d",
   "metadata": {},
   "outputs": [],
   "source": [
    "arr3=np.array([10,20,30,40])"
   ]
  },
  {
   "cell_type": "code",
   "execution_count": 118,
   "id": "5a06af57",
   "metadata": {},
   "outputs": [
    {
     "name": "stdout",
     "output_type": "stream",
     "text": [
      "[20 30]\n",
      "[30 40]\n",
      "[20 30 40]\n",
      "[10 20 30 40]\n",
      "[10 20]\n",
      "[10 20 30] == [10 20 30]\n"
     ]
    }
   ],
   "source": [
    "#slicing\n",
    "\n",
    "print(arr3[1:3])\n",
    "print(arr3[-2:])\n",
    "print(arr3[-3:])\n",
    "print(arr3[-4:])\n",
    "print(arr3[-4:2])\n",
    "print(arr3[0:3],'==',arr3[-4:-1])"
   ]
  },
  {
   "cell_type": "code",
   "execution_count": 95,
   "id": "7598496c",
   "metadata": {},
   "outputs": [
    {
     "data": {
      "text/plain": [
       "array([[30, 40]])"
      ]
     },
     "execution_count": 95,
     "metadata": {},
     "output_type": "execute_result"
    }
   ],
   "source": [
    "#slicing\n",
    "arr4[1:3]"
   ]
  },
  {
   "cell_type": "code",
   "execution_count": 104,
   "id": "08065355",
   "metadata": {},
   "outputs": [
    {
     "data": {
      "text/plain": [
       "array([[10, 20],\n",
       "       [30, 40]])"
      ]
     },
     "execution_count": 104,
     "metadata": {},
     "output_type": "execute_result"
    }
   ],
   "source": [
    "arr4[-2:]"
   ]
  }
 ],
 "metadata": {
  "kernelspec": {
   "display_name": "Python 3",
   "language": "python",
   "name": "python3"
  },
  "language_info": {
   "codemirror_mode": {
    "name": "ipython",
    "version": 3
   },
   "file_extension": ".py",
   "mimetype": "text/x-python",
   "name": "python",
   "nbconvert_exporter": "python",
   "pygments_lexer": "ipython3",
   "version": "3.7.7"
  }
 },
 "nbformat": 4,
 "nbformat_minor": 5
}
